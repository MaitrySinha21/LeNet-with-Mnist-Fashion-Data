{
 "cells": [
  {
   "cell_type": "markdown",
   "metadata": {},
   "source": [
    "### importing libraries"
   ]
  },
  {
   "cell_type": "code",
   "execution_count": 40,
   "metadata": {},
   "outputs": [],
   "source": [
    "import pandas as pd\n",
    "import numpy as np\n",
    "import matplotlib.pyplot as plt\n",
    "import seaborn as sns\n",
    "%matplotlib inline\n",
    "import keras\n",
    "from keras.layers import Dense, Dropout, Activation,Conv2D, MaxPooling2D,Flatten\n",
    "from keras.models import Sequential\n",
    "from keras.optimizers import Adam\n",
    "from keras.models import load_model\n",
    "from sklearn .metrics import classification_report,confusion_matrix\n",
    "from keras.layers.normalization import BatchNormalization\n",
    "import os\n",
    "import h5py"
   ]
  },
  {
   "cell_type": "markdown",
   "metadata": {},
   "source": [
    "### loading of training and testing data"
   ]
  },
  {
   "cell_type": "code",
   "execution_count": 2,
   "metadata": {},
   "outputs": [],
   "source": [
    "df= pd.read_csv(\"fashion-mnist_train.csv\")  \n",
    "df1= pd.read_csv(\"fashion-mnist_test.csv\")"
   ]
  },
  {
   "cell_type": "code",
   "execution_count": 3,
   "metadata": {},
   "outputs": [
    {
     "data": {
      "text/html": [
       "<div>\n",
       "<style scoped>\n",
       "    .dataframe tbody tr th:only-of-type {\n",
       "        vertical-align: middle;\n",
       "    }\n",
       "\n",
       "    .dataframe tbody tr th {\n",
       "        vertical-align: top;\n",
       "    }\n",
       "\n",
       "    .dataframe thead th {\n",
       "        text-align: right;\n",
       "    }\n",
       "</style>\n",
       "<table border=\"1\" class=\"dataframe\">\n",
       "  <thead>\n",
       "    <tr style=\"text-align: right;\">\n",
       "      <th></th>\n",
       "      <th>label</th>\n",
       "      <th>pixel1</th>\n",
       "      <th>pixel2</th>\n",
       "      <th>pixel3</th>\n",
       "      <th>pixel4</th>\n",
       "      <th>pixel5</th>\n",
       "      <th>pixel6</th>\n",
       "      <th>pixel7</th>\n",
       "      <th>pixel8</th>\n",
       "      <th>pixel9</th>\n",
       "      <th>...</th>\n",
       "      <th>pixel775</th>\n",
       "      <th>pixel776</th>\n",
       "      <th>pixel777</th>\n",
       "      <th>pixel778</th>\n",
       "      <th>pixel779</th>\n",
       "      <th>pixel780</th>\n",
       "      <th>pixel781</th>\n",
       "      <th>pixel782</th>\n",
       "      <th>pixel783</th>\n",
       "      <th>pixel784</th>\n",
       "    </tr>\n",
       "  </thead>\n",
       "  <tbody>\n",
       "    <tr>\n",
       "      <th>0</th>\n",
       "      <td>0</td>\n",
       "      <td>0</td>\n",
       "      <td>0</td>\n",
       "      <td>0</td>\n",
       "      <td>0</td>\n",
       "      <td>0</td>\n",
       "      <td>0</td>\n",
       "      <td>0</td>\n",
       "      <td>9</td>\n",
       "      <td>8</td>\n",
       "      <td>...</td>\n",
       "      <td>103</td>\n",
       "      <td>87</td>\n",
       "      <td>56</td>\n",
       "      <td>0</td>\n",
       "      <td>0</td>\n",
       "      <td>0</td>\n",
       "      <td>0</td>\n",
       "      <td>0</td>\n",
       "      <td>0</td>\n",
       "      <td>0</td>\n",
       "    </tr>\n",
       "  </tbody>\n",
       "</table>\n",
       "<p>1 rows × 785 columns</p>\n",
       "</div>"
      ],
      "text/plain": [
       "   label  pixel1  pixel2  pixel3  pixel4  pixel5  pixel6  pixel7  pixel8  \\\n",
       "0      0       0       0       0       0       0       0       0       9   \n",
       "\n",
       "   pixel9  ...  pixel775  pixel776  pixel777  pixel778  pixel779  pixel780  \\\n",
       "0       8  ...       103        87        56         0         0         0   \n",
       "\n",
       "   pixel781  pixel782  pixel783  pixel784  \n",
       "0         0         0         0         0  \n",
       "\n",
       "[1 rows x 785 columns]"
      ]
     },
     "execution_count": 3,
     "metadata": {},
     "output_type": "execute_result"
    }
   ],
   "source": [
    "df1.head(1)"
   ]
  },
  {
   "cell_type": "code",
   "execution_count": 4,
   "metadata": {},
   "outputs": [
    {
     "data": {
      "text/plain": [
       "((60000, 785), (10000, 785))"
      ]
     },
     "execution_count": 4,
     "metadata": {},
     "output_type": "execute_result"
    }
   ],
   "source": [
    "df.shape,df1.shape"
   ]
  },
  {
   "cell_type": "code",
   "execution_count": 5,
   "metadata": {},
   "outputs": [],
   "source": [
    "x_train=df.drop('label',1) \n",
    "xtrain=np.array(x_train)\n",
    "y_train=df['label']\n",
    "\n",
    "x_test=df1.drop('label',1)\n",
    "xtest=np.array(x_test)\n",
    "y_test=df1['label']"
   ]
  },
  {
   "cell_type": "code",
   "execution_count": 6,
   "metadata": {},
   "outputs": [
    {
     "data": {
      "text/plain": [
       "((60000, 784), (10000, 784), (60000,), (10000,))"
      ]
     },
     "execution_count": 6,
     "metadata": {},
     "output_type": "execute_result"
    }
   ],
   "source": [
    "xtrain.shape, xtest.shape, y_train.shape, y_test.shape"
   ]
  },
  {
   "cell_type": "code",
   "execution_count": 7,
   "metadata": {},
   "outputs": [],
   "source": [
    "xtrain = xtrain/255.0   # scaling the data within (0,1)\n",
    "xtest = xtest/255.0"
   ]
  },
  {
   "cell_type": "code",
   "execution_count": 8,
   "metadata": {},
   "outputs": [
    {
     "data": {
      "text/plain": [
       "(1.0, 1.0)"
      ]
     },
     "execution_count": 8,
     "metadata": {},
     "output_type": "execute_result"
    }
   ],
   "source": [
    "xtrain.max(),xtest.max()"
   ]
  },
  {
   "cell_type": "code",
   "execution_count": 9,
   "metadata": {},
   "outputs": [],
   "source": [
    "clothing=  {0 : 'T-shirt/top',\n",
    "            1 : 'Trouser',\n",
    "            2 : 'Pullover',\n",
    "            3 : 'Dress',\n",
    "            4 : 'Coat',\n",
    "            5 : 'Sandal',\n",
    "            6 : 'Shirt',\n",
    "            7 : 'Sneaker',\n",
    "            8 : 'Bag',\n",
    "            9 : 'Ankle boot'}"
   ]
  },
  {
   "cell_type": "code",
   "execution_count": 10,
   "metadata": {},
   "outputs": [
    {
     "data": {
      "image/png": "[encoded data removed]",
      "text/plain": [
       "<Figure size 1152x432 with 1 Axes>"
      ]
     },
     "metadata": {
      "needs_background": "light"
     },
     "output_type": "display_data"
    }
   ],
   "source": [
    "label = []\n",
    "for i in range(len(y_train)):\n",
    "    label.append(clothing[y_train[i]])\n",
    "    \n",
    "fig = plt.figure(figsize=(16,6))\n",
    "sns.countplot(label)\n",
    "sns.despine(left=True)\n",
    "plt.show()"
   ]
  },
  {
   "cell_type": "code",
   "execution_count": 11,
   "metadata": {
    "scrolled": true
   },
   "outputs": [],
   "source": [
    "ytrain= keras.utils.to_categorical(y_train,num_classes=10)\n",
    "ytest=keras.utils.to_categorical(y_test,num_classes=10)"
   ]
  },
  {
   "cell_type": "code",
   "execution_count": 12,
   "metadata": {},
   "outputs": [],
   "source": [
    "l=['T-shirt/top','Trouser','Pullover','Dress','Coat','Sandal','Shirt','Sneaker','Bag','Ankle boot']"
   ]
  },
  {
   "cell_type": "markdown",
   "metadata": {},
   "source": [
    "# *Making CNN Model"
   ]
  },
  {
   "cell_type": "code",
   "execution_count": 13,
   "metadata": {},
   "outputs": [
    {
     "data": {
      "text/plain": [
       "((60000, 28, 28, 1), (10000, 28, 28, 1))"
      ]
     },
     "execution_count": 13,
     "metadata": {},
     "output_type": "execute_result"
    }
   ],
   "source": [
    "Xtrain=xtrain.reshape(-1,28,28,1)\n",
    "Xtest=xtest.reshape(-1,28,28,1)\n",
    "Xtrain.shape, Xtest.shape\n",
    "ytrain.shape, ytest.shape, Xtrain[0].shape"
   ]
  },
  {
   "cell_type": "code",
   "execution_count": 14,
   "metadata": {},
   "outputs": [
    {
     "data": {
      "text/plain": [
       "((60000, 10), (10000, 10), (28, 28, 1))"
      ]
     },
     "execution_count": 14,
     "metadata": {},
     "output_type": "execute_result"
    }
   ],
   "source": [
    "ytrain.shape, ytest.shape, Xtrain[0].shape"
   ]
  },
  {
   "cell_type": "code",
   "execution_count": 15,
   "metadata": {},
   "outputs": [
    {
     "data": {
      "text/plain": [
       "(28, 28, 1)"
      ]
     },
     "execution_count": 15,
     "metadata": {},
     "output_type": "execute_result"
    }
   ],
   "source": [
    "Xtrain[0].shape"
   ]
  },
  {
   "cell_type": "code",
   "execution_count": 16,
   "metadata": {},
   "outputs": [
    {
     "name": "stdout",
     "output_type": "stream",
     "text": [
      "WARNING:tensorflow:From C:\\Users\\user\\anaconda3\\lib\\site-packages\\keras\\backend\\tensorflow_backend.py:4070: The name tf.nn.max_pool is deprecated. Please use tf.nn.max_pool2d instead.\n",
      "\n"
     ]
    }
   ],
   "source": [
    "model = Sequential()\n",
    "\n",
    "# CNN-LAYERS\n",
    "model.add(Conv2D(6, (5, 5),padding='same', activation='relu',kernel_initializer='he_uniform', input_shape=(Xtrain[0].shape)))\n",
    "model.add(MaxPooling2D(pool_size=(2, 2))) \n",
    "#model.add(BatchNormalization())\n",
    "\n",
    "model.add(Conv2D(32, (5, 5), kernel_initializer='he_uniform', activation='relu'))\n",
    "model.add(Dropout(0.5))\n",
    "model.add(MaxPooling2D(pool_size=(2, 2))) \n",
    "#model.add(BatchNormalization())\n",
    "\n",
    "model.add(Conv2D(120, (5, 5), kernel_initializer='he_uniform', activation='relu'))\n",
    "#model.add(Dropout(0.5))\n",
    "#model.add(MaxPooling2D(pool_size=(2, 2)))\n",
    "\n",
    "\n",
    "# ANN-LAYERS\n",
    "model.add(Flatten())\n",
    "\n",
    "model.add(Dense(84, activation='relu'))\n",
    "#model.add(Dropout(0.5))\n",
    "\n",
    "\n",
    "# Classification layer\n",
    "model.add(Dense(10, activation='softmax'))\n",
    "\n",
    "adam = Adam()\n",
    "#rms = RMSprop(learning_rate=0.00004, decay=1e-6, rho=0.92)\n",
    "model.compile(loss='categorical_crossentropy', optimizer=adam,metrics=['accuracy'])\n"
   ]
  },
  {
   "cell_type": "code",
   "execution_count": 17,
   "metadata": {},
   "outputs": [
    {
     "name": "stdout",
     "output_type": "stream",
     "text": [
      "Model: \"sequential_1\"\n",
      "_________________________________________________________________\n",
      "Layer (type)                 Output Shape              Param #   \n",
      "=================================================================\n",
      "conv2d_1 (Conv2D)            (None, 28, 28, 6)         156       \n",
      "_________________________________________________________________\n",
      "max_pooling2d_1 (MaxPooling2 (None, 14, 14, 6)         0         \n",
      "_________________________________________________________________\n",
      "conv2d_2 (Conv2D)            (None, 10, 10, 32)        4832      \n",
      "_________________________________________________________________\n",
      "dropout_1 (Dropout)          (None, 10, 10, 32)        0         \n",
      "_________________________________________________________________\n",
      "max_pooling2d_2 (MaxPooling2 (None, 5, 5, 32)          0         \n",
      "_________________________________________________________________\n",
      "conv2d_3 (Conv2D)            (None, 1, 1, 120)         96120     \n",
      "_________________________________________________________________\n",
      "flatten_1 (Flatten)          (None, 120)               0         \n",
      "_________________________________________________________________\n",
      "dense_1 (Dense)              (None, 84)                10164     \n",
      "_________________________________________________________________\n",
      "dense_2 (Dense)              (None, 10)                850       \n",
      "=================================================================\n",
      "Total params: 112,122\n",
      "Trainable params: 112,122\n",
      "Non-trainable params: 0\n",
      "_________________________________________________________________\n"
     ]
    }
   ],
   "source": [
    "model.summary()"
   ]
  },
  {
   "cell_type": "code",
   "execution_count": 19,
   "metadata": {
    "scrolled": false
   },
   "outputs": [
    {
     "name": "stdout",
     "output_type": "stream",
     "text": [
      "WARNING:tensorflow:From C:\\Users\\user\\anaconda3\\lib\\site-packages\\keras\\backend\\tensorflow_backend.py:422: The name tf.global_variables is deprecated. Please use tf.compat.v1.global_variables instead.\n",
      "\n",
      "Train on 60000 samples, validate on 10000 samples\n",
      "Epoch 1/60\n",
      "60000/60000 [==============================] - 24s 395us/step - loss: 0.5970 - accuracy: 0.7834 - val_loss: 0.4570 - val_accuracy: 0.8573\n",
      "Epoch 2/60\n",
      "60000/60000 [==============================] - 22s 363us/step - loss: 0.3981 - accuracy: 0.8544 - val_loss: 0.4085 - val_accuracy: 0.8763\n",
      "Epoch 3/60\n",
      "60000/60000 [==============================] - 21s 357us/step - loss: 0.3496 - accuracy: 0.8727 - val_loss: 0.3494 - val_accuracy: 0.8901\n",
      "Epoch 4/60\n",
      "60000/60000 [==============================] - 22s 367us/step - loss: 0.3239 - accuracy: 0.8816 - val_loss: 0.3147 - val_accuracy: 0.8938\n",
      "Epoch 5/60\n",
      "60000/60000 [==============================] - 22s 366us/step - loss: 0.3035 - accuracy: 0.8869 - val_loss: 0.2969 - val_accuracy: 0.8976\n",
      "Epoch 6/60\n",
      "60000/60000 [==============================] - 22s 365us/step - loss: 0.2913 - accuracy: 0.8918 - val_loss: 0.2926 - val_accuracy: 0.8999\n",
      "Epoch 7/60\n",
      "60000/60000 [==============================] - 21s 354us/step - loss: 0.2765 - accuracy: 0.8985 - val_loss: 0.2952 - val_accuracy: 0.9054\n",
      "Epoch 8/60\n",
      "60000/60000 [==============================] - 21s 356us/step - loss: 0.2640 - accuracy: 0.9010 - val_loss: 0.2776 - val_accuracy: 0.9040\n",
      "Epoch 9/60\n",
      "60000/60000 [==============================] - 22s 371us/step - loss: 0.2586 - accuracy: 0.9031 - val_loss: 0.2743 - val_accuracy: 0.9037\n",
      "Epoch 10/60\n",
      "60000/60000 [==============================] - 22s 363us/step - loss: 0.2447 - accuracy: 0.9066 - val_loss: 0.2567 - val_accuracy: 0.9124\n",
      "Epoch 11/60\n",
      "60000/60000 [==============================] - 23s 377us/step - loss: 0.2396 - accuracy: 0.9096 - val_loss: 0.2485 - val_accuracy: 0.9116\n",
      "Epoch 12/60\n",
      "60000/60000 [==============================] - 22s 362us/step - loss: 0.2320 - accuracy: 0.9117 - val_loss: 0.2484 - val_accuracy: 0.9096\n",
      "Epoch 13/60\n",
      "60000/60000 [==============================] - 22s 369us/step - loss: 0.2257 - accuracy: 0.9151 - val_loss: 0.2433 - val_accuracy: 0.9149\n",
      "Epoch 14/60\n",
      "60000/60000 [==============================] - 22s 363us/step - loss: 0.2212 - accuracy: 0.9157 - val_loss: 0.2534 - val_accuracy: 0.9101\n",
      "Epoch 15/60\n",
      "60000/60000 [==============================] - 22s 370us/step - loss: 0.2140 - accuracy: 0.9184 - val_loss: 0.2468 - val_accuracy: 0.9136\n",
      "Epoch 16/60\n",
      "60000/60000 [==============================] - 22s 363us/step - loss: 0.2086 - accuracy: 0.9211 - val_loss: 0.2394 - val_accuracy: 0.9177\n",
      "Epoch 17/60\n",
      "60000/60000 [==============================] - 20s 340us/step - loss: 0.2020 - accuracy: 0.9237 - val_loss: 0.2388 - val_accuracy: 0.9160\n",
      "Epoch 18/60\n",
      "60000/60000 [==============================] - 21s 343us/step - loss: 0.1983 - accuracy: 0.9242 - val_loss: 0.2361 - val_accuracy: 0.9174\n",
      "Epoch 19/60\n",
      "60000/60000 [==============================] - 20s 339us/step - loss: 0.1951 - accuracy: 0.9261 - val_loss: 0.2255 - val_accuracy: 0.9165\n",
      "Epoch 20/60\n",
      "60000/60000 [==============================] - 20s 339us/step - loss: 0.1924 - accuracy: 0.9263 - val_loss: 0.2405 - val_accuracy: 0.9105\n",
      "Epoch 21/60\n",
      "60000/60000 [==============================] - 20s 341us/step - loss: 0.1916 - accuracy: 0.9268 - val_loss: 0.2291 - val_accuracy: 0.9183\n",
      "Epoch 22/60\n",
      "60000/60000 [==============================] - 20s 338us/step - loss: 0.1861 - accuracy: 0.9287 - val_loss: 0.2435 - val_accuracy: 0.9121\n",
      "Epoch 23/60\n",
      "60000/60000 [==============================] - 21s 353us/step - loss: 0.1815 - accuracy: 0.9311 - val_loss: 0.2403 - val_accuracy: 0.9159\n",
      "Epoch 24/60\n",
      "60000/60000 [==============================] - 22s 359us/step - loss: 0.1789 - accuracy: 0.9321 - val_loss: 0.2244 - val_accuracy: 0.9188\n",
      "Epoch 25/60\n",
      "60000/60000 [==============================] - 22s 366us/step - loss: 0.1736 - accuracy: 0.9331 - val_loss: 0.2269 - val_accuracy: 0.9184\n",
      "Epoch 26/60\n",
      "60000/60000 [==============================] - 22s 371us/step - loss: 0.1697 - accuracy: 0.9357 - val_loss: 0.2219 - val_accuracy: 0.9203\n",
      "Epoch 27/60\n",
      "60000/60000 [==============================] - 22s 367us/step - loss: 0.1670 - accuracy: 0.9370 - val_loss: 0.2278 - val_accuracy: 0.9142\n",
      "Epoch 28/60\n",
      "60000/60000 [==============================] - 24s 395us/step - loss: 0.1681 - accuracy: 0.9359 - val_loss: 0.2197 - val_accuracy: 0.9183a\n",
      "Epoch 29/60\n",
      "60000/60000 [==============================] - 22s 359us/step - loss: 0.1617 - accuracy: 0.9380 - val_loss: 0.2204 - val_accuracy: 0.9201\n",
      "Epoch 30/60\n",
      "60000/60000 [==============================] - 21s 358us/step - loss: 0.1598 - accuracy: 0.9377 - val_loss: 0.2177 - val_accuracy: 0.9205\n",
      "Epoch 31/60\n",
      "60000/60000 [==============================] - 21s 354us/step - loss: 0.1569 - accuracy: 0.9397 - val_loss: 0.2283 - val_accuracy: 0.9176\n",
      "Epoch 32/60\n",
      "60000/60000 [==============================] - 21s 358us/step - loss: 0.1545 - accuracy: 0.9409 - val_loss: 0.2241 - val_accuracy: 0.9174\n",
      "Epoch 33/60\n",
      "60000/60000 [==============================] - 21s 352us/step - loss: 0.1533 - accuracy: 0.9413 - val_loss: 0.2202 - val_accuracy: 0.9200\n",
      "Epoch 34/60\n",
      "60000/60000 [==============================] - 21s 354us/step - loss: 0.1520 - accuracy: 0.9417 - val_loss: 0.2287 - val_accuracy: 0.9164\n",
      "Epoch 35/60\n",
      "60000/60000 [==============================] - 23s 391us/step - loss: 0.1501 - accuracy: 0.9421 - val_loss: 0.2251 - val_accuracy: 0.9155\n",
      "Epoch 36/60\n",
      "60000/60000 [==============================] - 23s 390us/step - loss: 0.1460 - accuracy: 0.9445 - val_loss: 0.2325 - val_accuracy: 0.9135\n",
      "Epoch 37/60\n",
      "60000/60000 [==============================] - 23s 390us/step - loss: 0.1456 - accuracy: 0.9432 - val_loss: 0.2282 - val_accuracy: 0.9144\n",
      "Epoch 38/60\n",
      "60000/60000 [==============================] - 23s 385us/step - loss: 0.1438 - accuracy: 0.9452 - val_loss: 0.2191 - val_accuracy: 0.9189\n",
      "Epoch 39/60\n",
      "60000/60000 [==============================] - 23s 383us/step - loss: 0.1452 - accuracy: 0.9447 - val_loss: 0.2330 - val_accuracy: 0.9155\n",
      "Epoch 40/60\n",
      "60000/60000 [==============================] - 23s 386us/step - loss: 0.1394 - accuracy: 0.9467 - val_loss: 0.2401 - val_accuracy: 0.9134\n",
      "Epoch 41/60\n",
      "60000/60000 [==============================] - 23s 383us/step - loss: 0.1388 - accuracy: 0.9463 - val_loss: 0.2229 - val_accuracy: 0.9195\n",
      "Epoch 42/60\n",
      "60000/60000 [==============================] - 24s 395us/step - loss: 0.1365 - accuracy: 0.9478 - val_loss: 0.2255 - val_accuracy: 0.9187\n",
      "Epoch 43/60\n",
      "60000/60000 [==============================] - 23s 385us/step - loss: 0.1353 - accuracy: 0.9480 - val_loss: 0.2211 - val_accuracy: 0.9187\n",
      "Epoch 44/60\n",
      "60000/60000 [==============================] - 24s 403us/step - loss: 0.1334 - accuracy: 0.9493 - val_loss: 0.2238 - val_accuracy: 0.9220\n",
      "Epoch 45/60\n",
      "60000/60000 [==============================] - 24s 401us/step - loss: 0.1345 - accuracy: 0.9481 - val_loss: 0.2438 - val_accuracy: 0.9127\n",
      "Epoch 46/60\n",
      "60000/60000 [==============================] - 24s 400us/step - loss: 0.1303 - accuracy: 0.9497 - val_loss: 0.2239 - val_accuracy: 0.9207\n",
      "Epoch 47/60\n",
      "60000/60000 [==============================] - 22s 368us/step - loss: 0.1283 - accuracy: 0.9509 - val_loss: 0.2295 - val_accuracy: 0.9184\n",
      "Epoch 48/60\n",
      "60000/60000 [==============================] - 21s 345us/step - loss: 0.1285 - accuracy: 0.9502 - val_loss: 0.2216 - val_accuracy: 0.9207\n",
      "Epoch 49/60\n",
      "60000/60000 [==============================] - 21s 354us/step - loss: 0.1267 - accuracy: 0.9505 - val_loss: 0.2259 - val_accuracy: 0.9197\n",
      "Epoch 50/60\n",
      "60000/60000 [==============================] - 23s 378us/step - loss: 0.1266 - accuracy: 0.9510 - val_loss: 0.2244 - val_accuracy: 0.9198\n",
      "Epoch 51/60\n",
      "60000/60000 [==============================] - 22s 366us/step - loss: 0.1234 - accuracy: 0.9523 - val_loss: 0.2272 - val_accuracy: 0.9198\n",
      "Epoch 52/60\n",
      "60000/60000 [==============================] - 21s 347us/step - loss: 0.1221 - accuracy: 0.9535 - val_loss: 0.2243 - val_accuracy: 0.9214\n",
      "Epoch 53/60\n",
      "60000/60000 [==============================] - 21s 355us/step - loss: 0.1201 - accuracy: 0.9543 - val_loss: 0.2266 - val_accuracy: 0.9182\n"
     ]
    },
    {
     "name": "stdout",
     "output_type": "stream",
     "text": [
      "Epoch 54/60\n",
      "60000/60000 [==============================] - 22s 365us/step - loss: 0.1177 - accuracy: 0.9553 - val_loss: 0.2335 - val_accuracy: 0.9194\n",
      "Epoch 55/60\n",
      "60000/60000 [==============================] - 24s 407us/step - loss: 0.1193 - accuracy: 0.9546 - val_loss: 0.2260 - val_accuracy: 0.9185\n",
      "Epoch 56/60\n",
      "60000/60000 [==============================] - 23s 380us/step - loss: 0.1186 - accuracy: 0.9547 - val_loss: 0.2381 - val_accuracy: 0.9171\n",
      "Epoch 57/60\n",
      "60000/60000 [==============================] - 21s 345us/step - loss: 0.1149 - accuracy: 0.9562 - val_loss: 0.2322 - val_accuracy: 0.9200\n",
      "Epoch 58/60\n",
      "60000/60000 [==============================] - 21s 356us/step - loss: 0.1142 - accuracy: 0.9561 - val_loss: 0.2364 - val_accuracy: 0.9192\n",
      "Epoch 59/60\n",
      "60000/60000 [==============================] - 23s 388us/step - loss: 0.1146 - accuracy: 0.9561 - val_loss: 0.2394 - val_accuracy: 0.9175\n",
      "Epoch 60/60\n",
      "60000/60000 [==============================] - 24s 401us/step - loss: 0.1127 - accuracy: 0.9566 - val_loss: 0.2319 - val_accuracy: 0.9207\n"
     ]
    }
   ],
   "source": [
    "hist = model.fit(Xtrain, ytrain, validation_data=(Xtest,ytest),epochs=60,batch_size=128,verbose=1)"
   ]
  },
  {
   "cell_type": "code",
   "execution_count": null,
   "metadata": {},
   "outputs": [],
   "source": [
    "#score = model.evaluate(Xtest, ytest)\n",
    "#print('Test Loss:', score[0])\n",
    "#print('Test accuracy:', score[1])"
   ]
  },
  {
   "cell_type": "code",
   "execution_count": 20,
   "metadata": {},
   "outputs": [],
   "source": [
    "val_acc = hist.history['val_accuracy']\n",
    "acc = hist.history['accuracy']\n",
    "val_loss = hist.history['val_loss']\n",
    "loss = hist.history['loss']"
   ]
  },
  {
   "cell_type": "code",
   "execution_count": 21,
   "metadata": {},
   "outputs": [
    {
     "data": {
      "image/png": "[encoded data removed]",
      "text/plain": [
       "<Figure size 1008x432 with 1 Axes>"
      ]
     },
     "metadata": {
      "needs_background": "light"
     },
     "output_type": "display_data"
    }
   ],
   "source": [
    "fig = plt.figure(figsize=(14,6))\n",
    "plt.plot(np.arange(len(val_loss)),val_loss,label='val_loss')\n",
    "plt.plot(np.arange(len(loss)),loss,label='loss')\n",
    "plt.ylim(0.1,0.8)\n",
    "plt.xlabel('EPOCHS')\n",
    "plt.ylabel('LOSS')\n",
    "plt.legend()\n",
    "plt.grid()\n",
    "sns.despine(left=True)\n",
    "plt.show()"
   ]
  },
  {
   "cell_type": "code",
   "execution_count": 22,
   "metadata": {
    "scrolled": false
   },
   "outputs": [
    {
     "name": "stdout",
     "output_type": "stream",
     "text": [
      "\n",
      "Value Accuracy |  92.07 %\n"
     ]
    },
    {
     "data": {
      "image/png": "[encoded data removed]",
      "text/plain": [
       "<Figure size 1152x432 with 1 Axes>"
      ]
     },
     "metadata": {
      "needs_background": "light"
     },
     "output_type": "display_data"
    }
   ],
   "source": [
    "print(\"\\nValue Accuracy | \",round(val_acc[len(acc)-1]*100,2),'%')\n",
    "fig = plt.figure(figsize=(16,6))\n",
    "plt.plot(np.arange(len(val_acc)),val_acc,label='val_accuracy')\n",
    "plt.plot(np.arange(len(acc)),acc,label='Accuracy')\n",
    "plt.xlabel(\"EPOCHS\")\n",
    "plt.ylabel('ACCURACY')\n",
    "plt.legend()\n",
    "plt.grid()\n",
    "sns.despine(left=True)\n",
    "plt.show()"
   ]
  },
  {
   "cell_type": "code",
   "execution_count": 23,
   "metadata": {},
   "outputs": [],
   "source": [
    "pred = model.predict(Xtest,batch_size=250)"
   ]
  },
  {
   "cell_type": "code",
   "execution_count": 24,
   "metadata": {},
   "outputs": [],
   "source": [
    "prd =[]\n",
    "for i in range(len(pred)):\n",
    "    prd.append(np.argmax(pred.round()[i]))\n",
    "    \n",
    "con = pd.DataFrame(confusion_matrix(y_test,prd),index=l,columns=l)"
   ]
  },
  {
   "cell_type": "code",
   "execution_count": 25,
   "metadata": {},
   "outputs": [
    {
     "name": "stdout",
     "output_type": "stream",
     "text": [
      "\n",
      "Confusion Matrix--->\n"
     ]
    },
    {
     "data": {
      "text/html": [
       "<div>\n",
       "<style scoped>\n",
       "    .dataframe tbody tr th:only-of-type {\n",
       "        vertical-align: middle;\n",
       "    }\n",
       "\n",
       "    .dataframe tbody tr th {\n",
       "        vertical-align: top;\n",
       "    }\n",
       "\n",
       "    .dataframe thead th {\n",
       "        text-align: right;\n",
       "    }\n",
       "</style>\n",
       "<table border=\"1\" class=\"dataframe\">\n",
       "  <thead>\n",
       "    <tr style=\"text-align: right;\">\n",
       "      <th></th>\n",
       "      <th>T-shirt/top</th>\n",
       "      <th>Trouser</th>\n",
       "      <th>Pullover</th>\n",
       "      <th>Dress</th>\n",
       "      <th>Coat</th>\n",
       "      <th>Sandal</th>\n",
       "      <th>Shirt</th>\n",
       "      <th>Sneaker</th>\n",
       "      <th>Bag</th>\n",
       "      <th>Ankle boot</th>\n",
       "    </tr>\n",
       "  </thead>\n",
       "  <tbody>\n",
       "    <tr>\n",
       "      <th>T-shirt/top</th>\n",
       "      <td>894</td>\n",
       "      <td>3</td>\n",
       "      <td>9</td>\n",
       "      <td>14</td>\n",
       "      <td>0</td>\n",
       "      <td>0</td>\n",
       "      <td>78</td>\n",
       "      <td>0</td>\n",
       "      <td>2</td>\n",
       "      <td>0</td>\n",
       "    </tr>\n",
       "    <tr>\n",
       "      <th>Trouser</th>\n",
       "      <td>5</td>\n",
       "      <td>981</td>\n",
       "      <td>1</td>\n",
       "      <td>11</td>\n",
       "      <td>0</td>\n",
       "      <td>0</td>\n",
       "      <td>2</td>\n",
       "      <td>0</td>\n",
       "      <td>0</td>\n",
       "      <td>0</td>\n",
       "    </tr>\n",
       "    <tr>\n",
       "      <th>Pullover</th>\n",
       "      <td>49</td>\n",
       "      <td>0</td>\n",
       "      <td>839</td>\n",
       "      <td>10</td>\n",
       "      <td>51</td>\n",
       "      <td>0</td>\n",
       "      <td>50</td>\n",
       "      <td>0</td>\n",
       "      <td>1</td>\n",
       "      <td>0</td>\n",
       "    </tr>\n",
       "    <tr>\n",
       "      <th>Dress</th>\n",
       "      <td>35</td>\n",
       "      <td>4</td>\n",
       "      <td>4</td>\n",
       "      <td>935</td>\n",
       "      <td>12</td>\n",
       "      <td>0</td>\n",
       "      <td>10</td>\n",
       "      <td>0</td>\n",
       "      <td>0</td>\n",
       "      <td>0</td>\n",
       "    </tr>\n",
       "    <tr>\n",
       "      <th>Coat</th>\n",
       "      <td>29</td>\n",
       "      <td>0</td>\n",
       "      <td>21</td>\n",
       "      <td>32</td>\n",
       "      <td>866</td>\n",
       "      <td>0</td>\n",
       "      <td>51</td>\n",
       "      <td>0</td>\n",
       "      <td>1</td>\n",
       "      <td>0</td>\n",
       "    </tr>\n",
       "    <tr>\n",
       "      <th>Sandal</th>\n",
       "      <td>2</td>\n",
       "      <td>0</td>\n",
       "      <td>0</td>\n",
       "      <td>0</td>\n",
       "      <td>0</td>\n",
       "      <td>978</td>\n",
       "      <td>0</td>\n",
       "      <td>13</td>\n",
       "      <td>1</td>\n",
       "      <td>6</td>\n",
       "    </tr>\n",
       "    <tr>\n",
       "      <th>Shirt</th>\n",
       "      <td>149</td>\n",
       "      <td>0</td>\n",
       "      <td>33</td>\n",
       "      <td>29</td>\n",
       "      <td>36</td>\n",
       "      <td>0</td>\n",
       "      <td>750</td>\n",
       "      <td>0</td>\n",
       "      <td>3</td>\n",
       "      <td>0</td>\n",
       "    </tr>\n",
       "    <tr>\n",
       "      <th>Sneaker</th>\n",
       "      <td>1</td>\n",
       "      <td>0</td>\n",
       "      <td>0</td>\n",
       "      <td>0</td>\n",
       "      <td>0</td>\n",
       "      <td>10</td>\n",
       "      <td>0</td>\n",
       "      <td>968</td>\n",
       "      <td>0</td>\n",
       "      <td>21</td>\n",
       "    </tr>\n",
       "    <tr>\n",
       "      <th>Bag</th>\n",
       "      <td>4</td>\n",
       "      <td>2</td>\n",
       "      <td>2</td>\n",
       "      <td>0</td>\n",
       "      <td>1</td>\n",
       "      <td>3</td>\n",
       "      <td>4</td>\n",
       "      <td>2</td>\n",
       "      <td>981</td>\n",
       "      <td>1</td>\n",
       "    </tr>\n",
       "    <tr>\n",
       "      <th>Ankle boot</th>\n",
       "      <td>1</td>\n",
       "      <td>0</td>\n",
       "      <td>0</td>\n",
       "      <td>0</td>\n",
       "      <td>0</td>\n",
       "      <td>2</td>\n",
       "      <td>0</td>\n",
       "      <td>28</td>\n",
       "      <td>0</td>\n",
       "      <td>969</td>\n",
       "    </tr>\n",
       "  </tbody>\n",
       "</table>\n",
       "</div>"
      ],
      "text/plain": [
       "             T-shirt/top  Trouser  Pullover  Dress  Coat  Sandal  Shirt  \\\n",
       "T-shirt/top          894        3         9     14     0       0     78   \n",
       "Trouser                5      981         1     11     0       0      2   \n",
       "Pullover              49        0       839     10    51       0     50   \n",
       "Dress                 35        4         4    935    12       0     10   \n",
       "Coat                  29        0        21     32   866       0     51   \n",
       "Sandal                 2        0         0      0     0     978      0   \n",
       "Shirt                149        0        33     29    36       0    750   \n",
       "Sneaker                1        0         0      0     0      10      0   \n",
       "Bag                    4        2         2      0     1       3      4   \n",
       "Ankle boot             1        0         0      0     0       2      0   \n",
       "\n",
       "             Sneaker  Bag  Ankle boot  \n",
       "T-shirt/top        0    2           0  \n",
       "Trouser            0    0           0  \n",
       "Pullover           0    1           0  \n",
       "Dress              0    0           0  \n",
       "Coat               0    1           0  \n",
       "Sandal            13    1           6  \n",
       "Shirt              0    3           0  \n",
       "Sneaker          968    0          21  \n",
       "Bag                2  981           1  \n",
       "Ankle boot        28    0         969  "
      ]
     },
     "execution_count": 25,
     "metadata": {},
     "output_type": "execute_result"
    }
   ],
   "source": [
    "print('\\nConfusion Matrix--->')\n",
    "con"
   ]
  },
  {
   "cell_type": "code",
   "execution_count": 26,
   "metadata": {},
   "outputs": [
    {
     "name": "stdout",
     "output_type": "stream",
     "text": [
      "\n",
      "Confusion Matrix Graph--->\n"
     ]
    },
    {
     "data": {
      "image/png": "[encoded data removed]",
      "text/plain": [
       "<Figure size 1008x720 with 1 Axes>"
      ]
     },
     "metadata": {
      "needs_background": "light"
     },
     "output_type": "display_data"
    }
   ],
   "source": [
    "print('\\nConfusion Matrix Graph--->')\n",
    "fig = plt.figure(figsize=(14,10))\n",
    "sns.heatmap(con,annot=True,cmap='viridis',linewidths=1,cbar=False,fmt='.5g')\n",
    "plt.show()"
   ]
  },
  {
   "cell_type": "code",
   "execution_count": 27,
   "metadata": {},
   "outputs": [
    {
     "name": "stdout",
     "output_type": "stream",
     "text": [
      "              precision    recall  f1-score   support\n",
      "\n",
      "  Ankle boot       0.97      0.97      0.97      1000\n",
      "         Bag       0.99      0.98      0.99      1000\n",
      "        Coat       0.90      0.87      0.88      1000\n",
      "       Dress       0.91      0.94      0.92      1000\n",
      "    Pullover       0.92      0.84      0.88      1000\n",
      "      Sandal       0.98      0.98      0.98      1000\n",
      "       Shirt       0.79      0.75      0.77      1000\n",
      "     Sneaker       0.96      0.97      0.96      1000\n",
      " T-shirt/top       0.76      0.89      0.82      1000\n",
      "     Trouser       0.99      0.98      0.99      1000\n",
      "\n",
      "    accuracy                           0.92     10000\n",
      "   macro avg       0.92      0.92      0.92     10000\n",
      "weighted avg       0.92      0.92      0.92     10000\n",
      "\n"
     ]
    }
   ],
   "source": [
    "pred_label=[]\n",
    "label=[]\n",
    "for i in range(len(prd)):\n",
    "    pred_label.append(clothing[prd[i]])\n",
    "    label.append(clothing[y_test[i]])\n",
    "    \n",
    "print(classification_report(label,pred_label))"
   ]
  },
  {
   "cell_type": "code",
   "execution_count": 28,
   "metadata": {},
   "outputs": [],
   "source": [
    "model.save('fashion_ann_model.h5') #saving the model\n",
    "del model"
   ]
  },
  {
   "cell_type": "code",
   "execution_count": 31,
   "metadata": {},
   "outputs": [
    {
     "name": "stdout",
     "output_type": "stream",
     "text": [
      "Model: \"sequential_1\"\n",
      "_________________________________________________________________\n",
      "Layer (type)                 Output Shape              Param #   \n",
      "=================================================================\n",
      "conv2d_1 (Conv2D)            (None, 28, 28, 6)         156       \n",
      "_________________________________________________________________\n",
      "max_pooling2d_1 (MaxPooling2 (None, 14, 14, 6)         0         \n",
      "_________________________________________________________________\n",
      "conv2d_2 (Conv2D)            (None, 10, 10, 32)        4832      \n",
      "_________________________________________________________________\n",
      "dropout_1 (Dropout)          (None, 10, 10, 32)        0         \n",
      "_________________________________________________________________\n",
      "max_pooling2d_2 (MaxPooling2 (None, 5, 5, 32)          0         \n",
      "_________________________________________________________________\n",
      "conv2d_3 (Conv2D)            (None, 1, 1, 120)         96120     \n",
      "_________________________________________________________________\n",
      "flatten_1 (Flatten)          (None, 120)               0         \n",
      "_________________________________________________________________\n",
      "dense_1 (Dense)              (None, 84)                10164     \n",
      "_________________________________________________________________\n",
      "dense_2 (Dense)              (None, 10)                850       \n",
      "=================================================================\n",
      "Total params: 112,122\n",
      "Trainable params: 112,122\n",
      "Non-trainable params: 0\n",
      "_________________________________________________________________\n"
     ]
    }
   ],
   "source": [
    "model = load_model('fashion_ann_model.h5')\n",
    "model.summary()\n",
    "#print('This Is the first LeNeT Model')"
   ]
  },
  {
   "cell_type": "code",
   "execution_count": 32,
   "metadata": {},
   "outputs": [],
   "source": [
    "Xtest = xtest.reshape(-1,28,28,1)\n",
    "pred = model.predict(Xtest,batch_size=200,verbose=0)"
   ]
  },
  {
   "cell_type": "code",
   "execution_count": 33,
   "metadata": {},
   "outputs": [],
   "source": [
    "l = ['T-shirt/top','Trouser','Pullover','Dress','Coat','Sandal',\n",
    "'Shirt','Sneaker','Bag','Ankle boot']"
   ]
  },
  {
   "cell_type": "code",
   "execution_count": 34,
   "metadata": {},
   "outputs": [],
   "source": [
    "Xtest = Xtest.reshape(-1,28,28)"
   ]
  },
  {
   "cell_type": "code",
   "execution_count": 35,
   "metadata": {},
   "outputs": [
    {
     "name": "stdout",
     "output_type": "stream",
     "text": [
      "Some Predicted Images\n"
     ]
    },
    {
     "data": {
      "image/png": "[encoded data removed]",
      "text/plain": [
       "<Figure size 648x648 with 16 Axes>"
      ]
     },
     "metadata": {
      "needs_background": "light"
     },
     "output_type": "display_data"
    }
   ],
   "source": [
    "print('Some Predicted Images')\n",
    "fig, axes = plt.subplots( 4,4,figsize = (9,9))\n",
    "for row in axes:\n",
    "    for j in row:\n",
    "        index = np.random.randint(len(pred))\n",
    "        j.imshow(Xtest[index],cmap='gray')\n",
    "        j.set_title(clothing[np.argmax(pred[index])])\n",
    "        j.set_axis_off()"
   ]
  },
  {
   "cell_type": "markdown",
   "metadata": {},
   "source": [
    "###### some wrong predictions."
   ]
  },
  {
   "cell_type": "code",
   "execution_count": 36,
   "metadata": {},
   "outputs": [
    {
     "name": "stdout",
     "output_type": "stream",
     "text": [
      "No. of Correct Predictions     :  9207\n",
      "No. of Incorrect Predictions   :  793\n"
     ]
    }
   ],
   "source": [
    "\n",
    "wrong_pred=[]\n",
    "right_pred=[]\n",
    "img=[]\n",
    "for i in range(len(y_test)):\n",
    "    if y_test[i]==np.argmax(pred[i]):\n",
    "        right_pred.append(y_test[i])\n",
    "    else:\n",
    "        wrong_pred.append(y_test[i])\n",
    "        img.append(Xtest[i])\n",
    "        \n",
    "print('No. of Correct Predictions     : ',len(right_pred))\n",
    "print('No. of Incorrect Predictions   : ',len(wrong_pred))"
   ]
  },
  {
   "cell_type": "code",
   "execution_count": 37,
   "metadata": {},
   "outputs": [
    {
     "name": "stdout",
     "output_type": "stream",
     "text": [
      "Some wrong Predicted images : \n"
     ]
    },
    {
     "data": {
      "image/png": "[encoded data removed]",
      "text/plain": [
       "<Figure size 648x648 with 16 Axes>"
      ]
     },
     "metadata": {
      "needs_background": "light"
     },
     "output_type": "display_data"
    }
   ],
   "source": [
    "fig, axes = plt.subplots( 4,4,figsize = (9,9))\n",
    "print('Some wrong Predicted images : ')\n",
    "for row in axes:\n",
    "    for j in row:\n",
    "        index = np.random.randint(len(wrong_pred))\n",
    "        j.imshow(img[index],cmap='gray')\n",
    "        j.set_title(clothing[wrong_pred[index]])\n",
    "        j.set_axis_off()"
   ]
  },
  {
   "cell_type": "markdown",
   "metadata": {},
   "source": [
    "# Single Prediction :-"
   ]
  },
  {
   "cell_type": "code",
   "execution_count": 38,
   "metadata": {},
   "outputs": [],
   "source": [
    "def prediction():\n",
    "    try:\n",
    "        plt.figure(figsize=(3,3))\n",
    "        index= int(input(\"\\nEnter index for test data :\"))\n",
    "        print('\\n   Predicted Image :',clothing[np.argmax(pred[index])])\n",
    "        plt.imshow(Xtest[index]*255,cmap='gray')\n",
    "        plt.axis('off')\n",
    "        plt.show()\n",
    "        print('   Original Image :',clothing[np.argmax(ytest[index])])\n",
    "    except:\n",
    "        print(\"Enter index upto 9999\")"
   ]
  },
  {
   "cell_type": "code",
   "execution_count": 39,
   "metadata": {},
   "outputs": [
    {
     "name": "stdout",
     "output_type": "stream",
     "text": [
      "\n",
      "Enter index for test data :25\n",
      "\n",
      "   Predicted Image : Sneaker\n"
     ]
    },
    {
     "data": {
      "image/png": "[encoded data removed]",
      "text/plain": [
       "<Figure size 216x216 with 1 Axes>"
      ]
     },
     "metadata": {
      "needs_background": "light"
     },
     "output_type": "display_data"
    },
    {
     "name": "stdout",
     "output_type": "stream",
     "text": [
      "   Original Image : Sneaker\n"
     ]
    }
   ],
   "source": [
    "prediction()"
   ]
  }
 ],
 "metadata": {
  "kernelspec": {
   "display_name": "Python 3",
   "language": "python",
   "name": "python3"
  },
  "language_info": {
   "codemirror_mode": {
    "name": "ipython",
    "version": 3
   },
   "file_extension": ".py",
   "mimetype": "text/x-python",
   "name": "python",
   "nbconvert_exporter": "python",
   "pygments_lexer": "ipython3",
   "version": "3.7.6"
  }
 },
 "nbformat": 4,
 "nbformat_minor": 4
}
